{
 "cells": [
  {
   "cell_type": "markdown",
   "id": "f78e3de0-d9f2-4099-88ad-d2932fe952d1",
   "metadata": {},
   "source": [
    "# Wenet Training on SageMaker Training job"
   ]
  },
  {
   "cell_type": "code",
   "execution_count": null,
   "id": "1465fc2e-11a6-49fa-a0ff-84b6e0ea1501",
   "metadata": {
    "collapsed": true,
    "jupyter": {
     "outputs_hidden": true
    },
    "tags": []
   },
   "outputs": [],
   "source": [
    "# ## Update sagemaker python sdk version\n",
    "!pip install -U sagemaker"
   ]
  },
  {
   "cell_type": "markdown",
   "id": "5b8213d6",
   "metadata": {},
   "source": [
    "## Package training image\n",
    "- 复制下面的命令在 SageMaker notebook terminal 界面运行，完成训练镜像的打包"
   ]
  },
  {
   "cell_type": "code",
   "execution_count": null,
   "id": "e2c7fdfa",
   "metadata": {},
   "outputs": [],
   "source": [
    "# bash build_and_push.sh"
   ]
  },
  {
   "cell_type": "markdown",
   "id": "b4fc2fef-6ba1-4df5-9c19-169f2de789d6",
   "metadata": {},
   "source": [
    "## Set model, Code and data"
   ]
  },
  {
   "cell_type": "code",
   "execution_count": null,
   "id": "25d3e133-95da-4751-bffd-71f4c1aa9a2b",
   "metadata": {
    "tags": []
   },
   "outputs": [],
   "source": [
    "import sagemaker\n",
    "from sagemaker import get_execution_role\n",
    "\n",
    "sess = sagemaker.Session()\n",
    "role = get_execution_role()\n",
    "sagemaker_default_bucket = sess.default_bucket()\n",
    "region = sess.boto_session.region_name\n",
    "account_id = sess.account_id()\n",
    "print(\"sagemaker_default_bucket:\", sagemaker_default_bucket)\n",
    "print(\"sagemaker_region:\", region)\n",
    "print(\"account_id:\", account_id)"
   ]
  },
  {
   "cell_type": "markdown",
   "id": "b3da8a94",
   "metadata": {},
   "source": [
    "## upload pretrain models to s3"
   ]
  },
  {
   "cell_type": "code",
   "execution_count": null,
   "id": "2c75865d-0bcb-43ee-88fe-7641f0416fb1",
   "metadata": {
    "collapsed": true,
    "jupyter": {
     "outputs_hidden": true
    },
    "tags": []
   },
   "outputs": [],
   "source": [
    "!pip install -r wenet_src/requirements.txt"
   ]
  },
  {
   "cell_type": "code",
   "execution_count": null,
   "id": "d471f6ad-47a5-4a56-a752-541373de9a13",
   "metadata": {
    "tags": []
   },
   "outputs": [],
   "source": [
    "# Code language: python\n",
    "from huggingface_hub import snapshot_download\n",
    "from pathlib import Path\n",
    "\n",
    "model_name = \"FireRedTeam/FireRedASR-AED-L\"\n",
    "model_file =model_name.split(\"/\")[-1]\n",
    "wenet_weight_path = f\"{model_file}_wenet\"\n",
    "local_cache_path = Path(model_file)\n",
    "local_cache_path.mkdir(exist_ok=True)\n",
    "\n",
    "# Only download pytorch checkpoint files\n",
    "allow_patterns = [\"*\"]\n",
    "\n",
    "model_download_path = snapshot_download(\n",
    "    repo_id=model_name,\n",
    "    cache_dir=local_cache_path,\n",
    "    allow_patterns=allow_patterns,\n",
    ")\n",
    "model_snapshot_path = list(local_cache_path.glob(\"**/snapshots/*\"))[0]"
   ]
  },
  {
   "cell_type": "code",
   "execution_count": null,
   "id": "92dfa7aa-7494-4e90-8cbc-e5ec1e4f8fc4",
   "metadata": {
    "collapsed": true,
    "jupyter": {
     "outputs_hidden": true
    },
    "tags": []
   },
   "outputs": [],
   "source": [
    "!pip install git+https://github.com/wenet-e2e/wenet.git"
   ]
  },
  {
   "cell_type": "code",
   "execution_count": null,
   "id": "3367218c-6688-477a-94a3-dd52b289a29a",
   "metadata": {
    "collapsed": true,
    "jupyter": {
     "outputs_hidden": true
    },
    "tags": []
   },
   "outputs": [],
   "source": [
    "!python wenet_src/wenet/firered/convert_FireRed_AED_L_to_wenet_config_and_ckpt.py --firered_model_dir {model_snapshot_path} --output_dir {wenet_weight_path}"
   ]
  },
  {
   "cell_type": "code",
   "execution_count": null,
   "id": "4c83769c-c367-4713-910c-53d1adebc7f3",
   "metadata": {
    "tags": []
   },
   "outputs": [],
   "source": [
    "!sed 's|FireRedASR-AED-L_wenet/|/tmp/model/|g' {wenet_weight_path}/train.yaml > {wenet_weight_path}/train_modefied.yaml"
   ]
  },
  {
   "cell_type": "code",
   "execution_count": null,
   "id": "372a7552-e0be-4db5-8fb2-145e0b8d0bfc",
   "metadata": {
    "tags": []
   },
   "outputs": [],
   "source": [
    "!aws s3 cp {wenet_weight_path} s3://{sagemaker_default_bucket}/Foundation-Models/{model_file} --recursive"
   ]
  },
  {
   "cell_type": "markdown",
   "id": "5a54ecc7",
   "metadata": {},
   "source": [
    "## Submit Training job"
   ]
  },
  {
   "cell_type": "code",
   "execution_count": null,
   "id": "ecd24a8c-2fbe-49ad-9317-c92a880bf053",
   "metadata": {
    "collapsed": true,
    "jupyter": {
     "outputs_hidden": true
    },
    "tags": []
   },
   "outputs": [],
   "source": [
    "REPO_NAME = \"sagemaker-training/wenet\"\n",
    "image_uri = f\"{account_id}.dkr.ecr.{region}.amazonaws.com/{REPO_NAME}:latest\"\n",
    "prefix = \"wenet-ft\"\n",
    "\n",
    "instance_count = 1\n",
    "# instance_type = 'ml.p4d.24xlarge' # 8*40G\n",
    "# instance_type = 'ml.g5.48xlarge'  # 8*24G\n",
    "instance_type = 'ml.g6e.48xlarge'  # 8*48G\n",
    "model_s3_checkpoint_path = f\"s3://{sagemaker_default_bucket}/finetuned_model/{model_file}_checkpoints/\"\n",
    "environment = {\n",
    "    'NODE_NUMBER':str(instance_count),\n",
    "    'MODEL_S3_PATH': f's3://{sagemaker_default_bucket}/Foundation-Models/{model_file}', # source model files\n",
    "    'MODEL_LOCAL_PATH': '/tmp/model',\n",
    "    'OUTPUT_MODEL_S3_PATH': f's3://{sagemaker_default_bucket}/finetuned_model/{model_file}', # destination\n",
    "}\n",
    "\n",
    "est = sagemaker.estimator.Estimator(\n",
    "    image_uri,\n",
    "    role,\n",
    "    entry_point='entry.py',\n",
    "    source_dir='wenet_src/',\n",
    "    environment=environment,\n",
    "    checkpoint_s3_uri=model_s3_checkpoint_path,\n",
    "    train_instance_count=1,\n",
    "    train_instance_type='ml.g6e.48xlarge',\n",
    "    # keep_alive_period_in_seconds=3600, # sagemaker warmpool setting\n",
    "    base_job_name=prefix\n",
    ")\n",
    "\n",
    "input_channel = {'zh': \"s3://audio-train-datasets/wenet/zh/\"}\n",
    "est.fit(input_channel)"
   ]
  },
  {
   "cell_type": "code",
   "execution_count": null,
   "id": "a9987ff3-a66b-472b-a8cb-a8f3926ba096",
   "metadata": {
    "tags": []
   },
   "outputs": [],
   "source": [
    "!aws s3 ls {model_s3_checkpoint_path}"
   ]
  },
  {
   "cell_type": "code",
   "execution_count": null,
   "id": "1f688c58-718e-4737-bb92-f6fc32ddf1c4",
   "metadata": {
    "tags": []
   },
   "outputs": [],
   "source": [
    "!aws s3 cp {model_s3_checkpoint_path}epoch_10.pt ./checkpoints/epoch_10.pt"
   ]
  },
  {
   "cell_type": "code",
   "execution_count": null,
   "id": "6c219483-c0c2-4b7c-a8f8-faf498fc6515",
   "metadata": {
    "tags": []
   },
   "outputs": [],
   "source": [
    "!ls -l ./checkpoints"
   ]
  },
  {
   "cell_type": "code",
   "execution_count": null,
   "id": "e55cd63e-2e3d-442c-93bd-0fb2455faced",
   "metadata": {
    "collapsed": true,
    "jupyter": {
     "outputs_hidden": true
    },
    "tags": []
   },
   "outputs": [],
   "source": [
    "!sudo yum update -y\n",
    "!sudo yum install -y sox sox-devel"
   ]
  },
  {
   "cell_type": "code",
   "execution_count": null,
   "id": "eba728df-c45b-4198-89f5-aa848d0d1975",
   "metadata": {
    "tags": []
   },
   "outputs": [],
   "source": [
    "# Full-parameter\n",
    "# 需要修改checkpoints路径下 yaml 文件的路径\n",
    "!python wenet_src/wenet/bin/recognize.py --config {wenet_weight_path}/train.yaml  --test_data ../wenet_finetuning/data/zh/test_local.list --gpu 0 --device cuda --checkpoint  ./checkpoints/epoch_10.pt --result_dir ./results --modes attention\n",
    "\n",
    "# LoRA\n",
    "# ... --use_lora True \n"
   ]
  },
  {
   "cell_type": "code",
   "execution_count": null,
   "id": "230a15b2-bf55-457c-8d8a-d5fad84594c6",
   "metadata": {
    "tags": []
   },
   "outputs": [],
   "source": [
    "!python wenet_src/wenet/bin/recognize.py --config {wenet_weight_path}/train.yaml  --test_data ../wenet_finetuning/data/zh/test_local.list --gpu 0 --device cuda --checkpoint  {wenet_weight_path}/wenet_firered.pt --result_dir ./results2 --modes attention"
   ]
  },
  {
   "cell_type": "code",
   "execution_count": null,
   "id": "5a2db9e2-23b6-410e-a018-cd968162b035",
   "metadata": {
    "tags": []
   },
   "outputs": [],
   "source": [
    "import json\n",
    "def process_test_data(file):\n",
    "    save_ref = open(\"test.ref\", \"w\")\n",
    "    with open(file, \"r\") as rf:\n",
    "        for line in rf:\n",
    "            data = json.loads(line.strip())\n",
    "            save_ref.write(\"\\t\".join((data[\"key\"], data[\"txt\"])))\n",
    "            save_ref.write(\"\\n\")\n",
    "            \n",
    "    save_ref.close()\n",
    "    \n",
    "process_test_data(\"/home/ec2-user/SageMaker/asr_xiaohongshu/wenet_finetuning/data/zh/test.list\")"
   ]
  },
  {
   "cell_type": "code",
   "execution_count": null,
   "id": "de63d19d-151d-4a12-9021-955c0926bab8",
   "metadata": {
    "tags": []
   },
   "outputs": [],
   "source": [
    "!python wenet_src/tools/compute-wer.py --char=1 --v=1 wenet_src/test.ref ./results2/attention/text"
   ]
  },
  {
   "cell_type": "code",
   "execution_count": null,
   "id": "c99fbd65-7e28-4a7f-92ac-c8fb5d959390",
   "metadata": {
    "tags": []
   },
   "outputs": [],
   "source": [
    "!python wenet_src/tools/compute-wer.py --char=1 --v=1 wenet_src/test.ref ./results/attention/text"
   ]
  },
  {
   "cell_type": "markdown",
   "id": "fb3fa28b",
   "metadata": {},
   "source": [
    "#### 训练完以后转回 FieredASR 模型官方格式"
   ]
  },
  {
   "cell_type": "code",
   "execution_count": null,
   "id": "0231f49f-3128-4e52-805c-ad161dd3784f",
   "metadata": {},
   "outputs": [],
   "source": [
    "!python wenet_src/wenet/firered/convert_wenet_to_FireRed_AED_L_ckpt.py --wenet_config_path results/training/train.yaml --wenet_pt_path ./checkpoints/epoch_10.pt --original_fireredaed_dir weights/FireRedwenet_src/ --output_dir weights/full_epoch10"
   ]
  }
 ],
 "metadata": {
  "kernelspec": {
   "display_name": "conda_pytorch_p310",
   "language": "python",
   "name": "conda_pytorch_p310"
  },
  "language_info": {
   "codemirror_mode": {
    "name": "ipython",
    "version": 3
   },
   "file_extension": ".py",
   "mimetype": "text/x-python",
   "name": "python",
   "nbconvert_exporter": "python",
   "pygments_lexer": "ipython3",
   "version": "3.10.14"
  }
 },
 "nbformat": 4,
 "nbformat_minor": 5
}
